{
  "nbformat": 4,
  "nbformat_minor": 0,
  "metadata": {
    "colab": {
      "name": "Plagiarism_detection.ipynb",
      "provenance": [],
      "collapsed_sections": []
    },
    "kernelspec": {
      "name": "python3",
      "display_name": "Python 3"
    },
    "language_info": {
      "name": "python"
    }
  },
  "cells": [
    {
      "cell_type": "code",
      "metadata": {
        "id": "zaJVlWqUVTEY"
      },
      "source": [
        "# import libraries\n",
        "import pandas as pd\n",
        "import numpy as np\n",
        "import io"
      ],
      "execution_count": 1,
      "outputs": []
    },
    {
      "cell_type": "code",
      "metadata": {
        "colab": {
          "resources": {
            "http://localhost:8080/nbextensions/google.colab/files.js": {
              "data": "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",
              "ok": true,
              "headers": [
                [
                  "content-type",
                  "application/javascript"
                ]
              ],
              "status": 200,
              "status_text": ""
            }
          },
          "base_uri": "https://localhost:8080/",
          "height": 262
        },
        "id": "fCh3bXDjVXsp",
        "outputId": "893881f0-c556-48ec-859a-a5ebee7b8d4e"
      },
      "source": [
        "from google.colab import files\n",
        "uploaded = files.upload()\n",
        "\n",
        "plagiarism_df = pd.read_csv(io.BytesIO(uploaded['file_information.csv']))\n",
        "\n",
        "plagiarism_df.head(5)"
      ],
      "execution_count": 2,
      "outputs": [
        {
          "output_type": "display_data",
          "data": {
            "text/html": [
              "\n",
              "     <input type=\"file\" id=\"files-8020a9ff-97a9-4c4b-bb44-d88ae61bc5ae\" name=\"files[]\" multiple disabled\n",
              "        style=\"border:none\" />\n",
              "     <output id=\"result-8020a9ff-97a9-4c4b-bb44-d88ae61bc5ae\">\n",
              "      Upload widget is only available when the cell has been executed in the\n",
              "      current browser session. Please rerun this cell to enable.\n",
              "      </output>\n",
              "      <script src=\"/nbextensions/google.colab/files.js\"></script> "
            ],
            "text/plain": [
              "<IPython.core.display.HTML object>"
            ]
          },
          "metadata": {}
        },
        {
          "output_type": "stream",
          "name": "stdout",
          "text": [
            "Saving file_information.csv to file_information (2).csv\n"
          ]
        },
        {
          "output_type": "execute_result",
          "data": {
            "text/html": [
              "<div>\n",
              "<style scoped>\n",
              "    .dataframe tbody tr th:only-of-type {\n",
              "        vertical-align: middle;\n",
              "    }\n",
              "\n",
              "    .dataframe tbody tr th {\n",
              "        vertical-align: top;\n",
              "    }\n",
              "\n",
              "    .dataframe thead th {\n",
              "        text-align: right;\n",
              "    }\n",
              "</style>\n",
              "<table border=\"1\" class=\"dataframe\">\n",
              "  <thead>\n",
              "    <tr style=\"text-align: right;\">\n",
              "      <th></th>\n",
              "      <th>File</th>\n",
              "      <th>Task</th>\n",
              "      <th>Category</th>\n",
              "    </tr>\n",
              "  </thead>\n",
              "  <tbody>\n",
              "    <tr>\n",
              "      <th>0</th>\n",
              "      <td>g0pA_taska.txt</td>\n",
              "      <td>a</td>\n",
              "      <td>non</td>\n",
              "    </tr>\n",
              "    <tr>\n",
              "      <th>1</th>\n",
              "      <td>g0pA_taskb.txt</td>\n",
              "      <td>b</td>\n",
              "      <td>cut</td>\n",
              "    </tr>\n",
              "    <tr>\n",
              "      <th>2</th>\n",
              "      <td>g0pA_taskc.txt</td>\n",
              "      <td>c</td>\n",
              "      <td>light</td>\n",
              "    </tr>\n",
              "    <tr>\n",
              "      <th>3</th>\n",
              "      <td>g0pA_taskd.txt</td>\n",
              "      <td>d</td>\n",
              "      <td>heavy</td>\n",
              "    </tr>\n",
              "    <tr>\n",
              "      <th>4</th>\n",
              "      <td>g0pA_taske.txt</td>\n",
              "      <td>e</td>\n",
              "      <td>non</td>\n",
              "    </tr>\n",
              "  </tbody>\n",
              "</table>\n",
              "</div>"
            ],
            "text/plain": [
              "             File Task Category\n",
              "0  g0pA_taska.txt    a      non\n",
              "1  g0pA_taskb.txt    b      cut\n",
              "2  g0pA_taskc.txt    c    light\n",
              "3  g0pA_taskd.txt    d    heavy\n",
              "4  g0pA_taske.txt    e      non"
            ]
          },
          "metadata": {},
          "execution_count": 2
        }
      ]
    },
    {
      "cell_type": "code",
      "metadata": {
        "id": "RKBRjFdRVeoH",
        "colab": {
          "base_uri": "https://localhost:8080/"
        },
        "outputId": "540062ee-b5cc-4f9e-dab7-2ccfe3dfe682"
      },
      "source": [
        "# Data description\n",
        "print('Number of files: ', plagiarism_df.shape[0])  \n",
        "\n",
        "print('Number of unique tasks/question types (A-E): ', (len(plagiarism_df['Task'].unique())))\n",
        "print('Unique plagiarism categories: ', (plagiarism_df['Category'].unique()))"
      ],
      "execution_count": 3,
      "outputs": [
        {
          "output_type": "stream",
          "name": "stdout",
          "text": [
            "Number of files:  100\n",
            "Number of unique tasks/question types (A-E):  5\n",
            "Unique plagiarism categories:  ['non' 'cut' 'light' 'heavy' 'orig']\n"
          ]
        }
      ]
    },
    {
      "cell_type": "code",
      "metadata": {
        "id": "a4c1CyBEViL2",
        "colab": {
          "base_uri": "https://localhost:8080/",
          "height": 688
        },
        "outputId": "da7c05d2-2c3a-4485-d769-8c76eb42cd38"
      },
      "source": [
        "# Show counts by different tasks and amounts of plagiarism\n",
        "\n",
        "# group by task\n",
        "counts_per_task=plagiarism_df.groupby(['Task']).size().reset_index(name=\"Counts\")\n",
        "print(\"\\nTask:\")\n",
        "display(counts_per_task)\n",
        "\n",
        "# group by plagiarism level\n",
        "counts_per_category=plagiarism_df.groupby(['Category']).size().reset_index(name=\"Counts\")\n",
        "print(\"\\nPlagiarism Levels:\")\n",
        "display(counts_per_category)\n",
        "\n",
        "# group by task and plagiarism level\n",
        "counts_task_and_plagiarism=plagiarism_df.groupby(['Task', 'Category']).size().reset_index(name=\"Counts\")\n",
        "print(\"\\nTask & Plagiarism Level Combos :\")\n",
        "display(counts_task_and_plagiarism.head())"
      ],
      "execution_count": 4,
      "outputs": [
        {
          "output_type": "stream",
          "name": "stdout",
          "text": [
            "\n",
            "Task:\n"
          ]
        },
        {
          "output_type": "display_data",
          "data": {
            "text/html": [
              "<div>\n",
              "<style scoped>\n",
              "    .dataframe tbody tr th:only-of-type {\n",
              "        vertical-align: middle;\n",
              "    }\n",
              "\n",
              "    .dataframe tbody tr th {\n",
              "        vertical-align: top;\n",
              "    }\n",
              "\n",
              "    .dataframe thead th {\n",
              "        text-align: right;\n",
              "    }\n",
              "</style>\n",
              "<table border=\"1\" class=\"dataframe\">\n",
              "  <thead>\n",
              "    <tr style=\"text-align: right;\">\n",
              "      <th></th>\n",
              "      <th>Task</th>\n",
              "      <th>Counts</th>\n",
              "    </tr>\n",
              "  </thead>\n",
              "  <tbody>\n",
              "    <tr>\n",
              "      <th>0</th>\n",
              "      <td>a</td>\n",
              "      <td>20</td>\n",
              "    </tr>\n",
              "    <tr>\n",
              "      <th>1</th>\n",
              "      <td>b</td>\n",
              "      <td>20</td>\n",
              "    </tr>\n",
              "    <tr>\n",
              "      <th>2</th>\n",
              "      <td>c</td>\n",
              "      <td>20</td>\n",
              "    </tr>\n",
              "    <tr>\n",
              "      <th>3</th>\n",
              "      <td>d</td>\n",
              "      <td>20</td>\n",
              "    </tr>\n",
              "    <tr>\n",
              "      <th>4</th>\n",
              "      <td>e</td>\n",
              "      <td>20</td>\n",
              "    </tr>\n",
              "  </tbody>\n",
              "</table>\n",
              "</div>"
            ],
            "text/plain": [
              "  Task  Counts\n",
              "0    a      20\n",
              "1    b      20\n",
              "2    c      20\n",
              "3    d      20\n",
              "4    e      20"
            ]
          },
          "metadata": {}
        },
        {
          "output_type": "stream",
          "name": "stdout",
          "text": [
            "\n",
            "Plagiarism Levels:\n"
          ]
        },
        {
          "output_type": "display_data",
          "data": {
            "text/html": [
              "<div>\n",
              "<style scoped>\n",
              "    .dataframe tbody tr th:only-of-type {\n",
              "        vertical-align: middle;\n",
              "    }\n",
              "\n",
              "    .dataframe tbody tr th {\n",
              "        vertical-align: top;\n",
              "    }\n",
              "\n",
              "    .dataframe thead th {\n",
              "        text-align: right;\n",
              "    }\n",
              "</style>\n",
              "<table border=\"1\" class=\"dataframe\">\n",
              "  <thead>\n",
              "    <tr style=\"text-align: right;\">\n",
              "      <th></th>\n",
              "      <th>Category</th>\n",
              "      <th>Counts</th>\n",
              "    </tr>\n",
              "  </thead>\n",
              "  <tbody>\n",
              "    <tr>\n",
              "      <th>0</th>\n",
              "      <td>cut</td>\n",
              "      <td>19</td>\n",
              "    </tr>\n",
              "    <tr>\n",
              "      <th>1</th>\n",
              "      <td>heavy</td>\n",
              "      <td>19</td>\n",
              "    </tr>\n",
              "    <tr>\n",
              "      <th>2</th>\n",
              "      <td>light</td>\n",
              "      <td>19</td>\n",
              "    </tr>\n",
              "    <tr>\n",
              "      <th>3</th>\n",
              "      <td>non</td>\n",
              "      <td>38</td>\n",
              "    </tr>\n",
              "    <tr>\n",
              "      <th>4</th>\n",
              "      <td>orig</td>\n",
              "      <td>5</td>\n",
              "    </tr>\n",
              "  </tbody>\n",
              "</table>\n",
              "</div>"
            ],
            "text/plain": [
              "  Category  Counts\n",
              "0      cut      19\n",
              "1    heavy      19\n",
              "2    light      19\n",
              "3      non      38\n",
              "4     orig       5"
            ]
          },
          "metadata": {}
        },
        {
          "output_type": "stream",
          "name": "stdout",
          "text": [
            "\n",
            "Task & Plagiarism Level Combos :\n"
          ]
        },
        {
          "output_type": "display_data",
          "data": {
            "text/html": [
              "<div>\n",
              "<style scoped>\n",
              "    .dataframe tbody tr th:only-of-type {\n",
              "        vertical-align: middle;\n",
              "    }\n",
              "\n",
              "    .dataframe tbody tr th {\n",
              "        vertical-align: top;\n",
              "    }\n",
              "\n",
              "    .dataframe thead th {\n",
              "        text-align: right;\n",
              "    }\n",
              "</style>\n",
              "<table border=\"1\" class=\"dataframe\">\n",
              "  <thead>\n",
              "    <tr style=\"text-align: right;\">\n",
              "      <th></th>\n",
              "      <th>Task</th>\n",
              "      <th>Category</th>\n",
              "      <th>Counts</th>\n",
              "    </tr>\n",
              "  </thead>\n",
              "  <tbody>\n",
              "    <tr>\n",
              "      <th>0</th>\n",
              "      <td>a</td>\n",
              "      <td>cut</td>\n",
              "      <td>4</td>\n",
              "    </tr>\n",
              "    <tr>\n",
              "      <th>1</th>\n",
              "      <td>a</td>\n",
              "      <td>heavy</td>\n",
              "      <td>3</td>\n",
              "    </tr>\n",
              "    <tr>\n",
              "      <th>2</th>\n",
              "      <td>a</td>\n",
              "      <td>light</td>\n",
              "      <td>3</td>\n",
              "    </tr>\n",
              "    <tr>\n",
              "      <th>3</th>\n",
              "      <td>a</td>\n",
              "      <td>non</td>\n",
              "      <td>9</td>\n",
              "    </tr>\n",
              "    <tr>\n",
              "      <th>4</th>\n",
              "      <td>a</td>\n",
              "      <td>orig</td>\n",
              "      <td>1</td>\n",
              "    </tr>\n",
              "  </tbody>\n",
              "</table>\n",
              "</div>"
            ],
            "text/plain": [
              "  Task Category  Counts\n",
              "0    a      cut       4\n",
              "1    a    heavy       3\n",
              "2    a    light       3\n",
              "3    a      non       9\n",
              "4    a     orig       1"
            ]
          },
          "metadata": {}
        }
      ]
    },
    {
      "cell_type": "code",
      "metadata": {
        "id": "oYSt1dUeVyvO"
      },
      "source": [
        "# Data encoding\n",
        "def numerical_dataframe(plagiarism_df):\n",
        "\n",
        "   # a mapping from categorical labels to numeric labels\n",
        "   CATEGORY_TO_NUM = {\"non\":0,\"heavy\":1,\"light\":2,\"cut\":3,\"orig\":-1}\n",
        "\n",
        "   df = plagiarism_df\n",
        "   for i in df.index:\n",
        "      category_ = df.at[i, 'Category']\n",
        "      df.at[i, 'Category'] = CATEGORY_TO_NUM[category_]\n",
        "      df.at[i, 'Class'] = 0 if category_ == 'non' else -1 if category_ == 'orig' else 1\n",
        "\n",
        "   df['Class'] = df['Class'].astype(int)\n",
        "   return df"
      ],
      "execution_count": 5,
      "outputs": []
    },
    {
      "cell_type": "code",
      "metadata": {
        "id": "j8116YUFWnlS",
        "colab": {
          "base_uri": "https://localhost:8080/",
          "height": 206
        },
        "outputId": "d4ad41dc-36c7-4d08-c592-3c9686d5f08a"
      },
      "source": [
        "transformed_df = numerical_dataframe(plagiarism_df)\n",
        "\n",
        "# check that all categories of plagiarism have a class label = 1\n",
        "transformed_df.head(5)"
      ],
      "execution_count": 6,
      "outputs": [
        {
          "output_type": "execute_result",
          "data": {
            "text/html": [
              "<div>\n",
              "<style scoped>\n",
              "    .dataframe tbody tr th:only-of-type {\n",
              "        vertical-align: middle;\n",
              "    }\n",
              "\n",
              "    .dataframe tbody tr th {\n",
              "        vertical-align: top;\n",
              "    }\n",
              "\n",
              "    .dataframe thead th {\n",
              "        text-align: right;\n",
              "    }\n",
              "</style>\n",
              "<table border=\"1\" class=\"dataframe\">\n",
              "  <thead>\n",
              "    <tr style=\"text-align: right;\">\n",
              "      <th></th>\n",
              "      <th>File</th>\n",
              "      <th>Task</th>\n",
              "      <th>Category</th>\n",
              "      <th>Class</th>\n",
              "    </tr>\n",
              "  </thead>\n",
              "  <tbody>\n",
              "    <tr>\n",
              "      <th>0</th>\n",
              "      <td>g0pA_taska.txt</td>\n",
              "      <td>a</td>\n",
              "      <td>0</td>\n",
              "      <td>0</td>\n",
              "    </tr>\n",
              "    <tr>\n",
              "      <th>1</th>\n",
              "      <td>g0pA_taskb.txt</td>\n",
              "      <td>b</td>\n",
              "      <td>3</td>\n",
              "      <td>1</td>\n",
              "    </tr>\n",
              "    <tr>\n",
              "      <th>2</th>\n",
              "      <td>g0pA_taskc.txt</td>\n",
              "      <td>c</td>\n",
              "      <td>2</td>\n",
              "      <td>1</td>\n",
              "    </tr>\n",
              "    <tr>\n",
              "      <th>3</th>\n",
              "      <td>g0pA_taskd.txt</td>\n",
              "      <td>d</td>\n",
              "      <td>1</td>\n",
              "      <td>1</td>\n",
              "    </tr>\n",
              "    <tr>\n",
              "      <th>4</th>\n",
              "      <td>g0pA_taske.txt</td>\n",
              "      <td>e</td>\n",
              "      <td>0</td>\n",
              "      <td>0</td>\n",
              "    </tr>\n",
              "  </tbody>\n",
              "</table>\n",
              "</div>"
            ],
            "text/plain": [
              "             File Task Category  Class\n",
              "0  g0pA_taska.txt    a        0      0\n",
              "1  g0pA_taskb.txt    b        3      1\n",
              "2  g0pA_taskc.txt    c        2      1\n",
              "3  g0pA_taskd.txt    d        1      1\n",
              "4  g0pA_taske.txt    e        0      0"
            ]
          },
          "metadata": {},
          "execution_count": 6
        }
      ]
    },
    {
      "cell_type": "code",
      "metadata": {
        "id": "ilCt0xbABa50",
        "colab": {
          "base_uri": "https://localhost:8080/"
        },
        "outputId": "4350b325-001f-4045-fcb7-a40a0a71cb97"
      },
      "source": [
        "from google.colab import drive\n",
        "drive.mount('/content/gdrive')"
      ],
      "execution_count": 7,
      "outputs": [
        {
          "output_type": "stream",
          "name": "stdout",
          "text": [
            "Drive already mounted at /content/gdrive; to attempt to forcibly remount, call drive.mount(\"/content/gdrive\", force_remount=True).\n"
          ]
        }
      ]
    },
    {
      "cell_type": "code",
      "metadata": {
        "id": "ztakEq7K3FuZ"
      },
      "source": [
        "#Change the path to wherever your corpus folder is....\n",
        "\n",
        "path = \"/content/gdrive/MyDrive/corpus-20090418/\"\n"
      ],
      "execution_count": 8,
      "outputs": []
    },
    {
      "cell_type": "code",
      "metadata": {
        "id": "6mw0Ok2Dut3p"
      },
      "source": [
        "#Functions\n",
        "import re\n",
        "import operator \n",
        "\n",
        "# Add 'datatype' column that indicates if the record is original wiki answer as 0, training data 1, test data 2, onto \n",
        "# the dataframe - uses stratified random sampling (with seed) to sample by task & plagiarism amount \n",
        "\n",
        "# Use function to label datatype for training 1 or test 2 \n",
        "def create_datatype(df, train_value, test_value, datatype_var, compare_dfcolumn, operator_of_compare, value_of_compare,\n",
        "                    sampling_number, sampling_seed):\n",
        "    # Subsets dataframe by condition relating to statement built from:\n",
        "    # 'compare_dfcolumn' 'operator_of_compare' 'value_of_compare'\n",
        "    df_subset = df[operator_of_compare(df[compare_dfcolumn], value_of_compare)]\n",
        "    df_subset = df_subset.drop(columns = [datatype_var])\n",
        "    \n",
        "    # Sets all datatype to value for training for df_subset\n",
        "    df_subset.loc[:, datatype_var] = train_value\n",
        "    \n",
        "    # Performs stratified random sample of subset dataframe to create new df with subset values \n",
        "    df_sampled = df_subset.groupby(['Task', compare_dfcolumn], group_keys=False).apply(lambda x: x.sample(min(len(x), sampling_number), random_state = sampling_seed))\n",
        "    df_sampled = df_sampled.drop(columns = [datatype_var])\n",
        "    # Sets all datatype to value for test_value for df_sampled\n",
        "    df_sampled.loc[:, datatype_var] = test_value\n",
        "    \n",
        "    # Labels all datatype_var column as train_value which will be overwritten to \n",
        "    # test_value in next for loop for all test cases chosen with stratified sample\n",
        "    for index in df_sampled.index: \n",
        "        # Labels all datatype_var columns with test_value for straified test sample\n",
        "        df_subset.loc[index, datatype_var] = test_value\n",
        "\n",
        "    # Adds test_value and train_value for all relevant data in main dataframe\n",
        "    for index in df_subset.index:\n",
        "        # Labels all datatype_var columns in df with train_value/test_value based upon \n",
        "        # stratified test sample and subset of df\n",
        "        df.loc[index, datatype_var] = df_subset.loc[index, datatype_var]\n",
        "\n",
        "    # returns nothing because dataframe df already altered \n",
        "    \n",
        "def train_test_dataframe(clean_df, random_seed=100):\n",
        "    \n",
        "    new_df = clean_df.copy()\n",
        "\n",
        "    # Initialize datatype as 0 initially for all records - after function 0 will remain only for original wiki answers\n",
        "    new_df.loc[:,'Datatype'] = 0\n",
        "\n",
        "    # Creates test & training datatypes for plagiarized answers (1,2,3)\n",
        "    create_datatype(new_df, 1, 2, 'Datatype', 'Category', operator.gt, 0, 1, random_seed)\n",
        "\n",
        "    # Creates test & training datatypes for NON-plagiarized answers (0)\n",
        "    create_datatype(new_df, 1, 2, 'Datatype', 'Category', operator.eq, 0, 2, random_seed)\n",
        "    \n",
        "    # creating a dictionary of categorical:numerical mappings for plagiarsm categories\n",
        "    mapping = {0:'orig', 1:'train', 2:'test'} \n",
        "\n",
        "    # traversing through dataframe and replacing categorical data\n",
        "    new_df.Datatype = [mapping[item] for item in new_df.Datatype] \n",
        "\n",
        "    return new_df\n",
        "\n",
        "\n",
        "# function for pre-processing text given a file\n",
        "def process_file(file):\n",
        "    # put text in all lower case letters \n",
        "    all_text = file.read().lower()\n",
        "\n",
        "    # remove all non-alphanumeric chars\n",
        "    all_text = re.sub(r\"[^a-zA-Z0-9]\", \" \", all_text)\n",
        "    # remove newlines/tabs, etc. so it's easier to match phrases, later\n",
        "    all_text = re.sub(r\"\\t\", \" \", all_text)\n",
        "    all_text = re.sub(r\"\\n\", \" \", all_text)\n",
        "    all_text = re.sub(\"  \", \" \", all_text)\n",
        "    all_text = re.sub(\"   \", \" \", all_text)\n",
        "    \n",
        "    return all_text\n",
        "\n",
        "\n",
        "def create_text_column(df, file_directory=path):\n",
        "    ''':param df: A dataframe of file information including a column for `File`\n",
        "       :param file_directory: the main directory where files are stored\n",
        "       :return: A dataframe with processed text '''\n",
        "   \n",
        "    # create copy to modify\n",
        "    text_df = df.copy()\n",
        "    \n",
        "    # store processed text\n",
        "    text = []\n",
        "    \n",
        "    # for each file (row) in the df, read in the file \n",
        "    for row_i in df.index:\n",
        "        filename = df.iloc[row_i]['File']\n",
        "        #print(filename)\n",
        "        file_path = file_directory + filename\n",
        "        with open(file_path, 'r', encoding='utf-8', errors='ignore') as file:\n",
        "\n",
        "            file_text = process_file(file)\n",
        "            # append processed text to list\n",
        "            text.append(file_text)\n",
        "    \n",
        "    # add column to the copied dataframe\n",
        "    text_df['Text'] = text\n",
        "    \n",
        "    return text_df"
      ],
      "execution_count": 9,
      "outputs": []
    },
    {
      "cell_type": "code",
      "metadata": {
        "id": "AWBBJ_jdwAU8",
        "colab": {
          "base_uri": "https://localhost:8080/",
          "height": 206
        },
        "outputId": "57492497-f346-48c7-a77e-46ab17fe639f"
      },
      "source": [
        "# create a text column \n",
        "text_df = create_text_column(transformed_df)\n",
        "text_df.head()"
      ],
      "execution_count": 10,
      "outputs": [
        {
          "output_type": "execute_result",
          "data": {
            "text/html": [
              "<div>\n",
              "<style scoped>\n",
              "    .dataframe tbody tr th:only-of-type {\n",
              "        vertical-align: middle;\n",
              "    }\n",
              "\n",
              "    .dataframe tbody tr th {\n",
              "        vertical-align: top;\n",
              "    }\n",
              "\n",
              "    .dataframe thead th {\n",
              "        text-align: right;\n",
              "    }\n",
              "</style>\n",
              "<table border=\"1\" class=\"dataframe\">\n",
              "  <thead>\n",
              "    <tr style=\"text-align: right;\">\n",
              "      <th></th>\n",
              "      <th>File</th>\n",
              "      <th>Task</th>\n",
              "      <th>Category</th>\n",
              "      <th>Class</th>\n",
              "      <th>Text</th>\n",
              "    </tr>\n",
              "  </thead>\n",
              "  <tbody>\n",
              "    <tr>\n",
              "      <th>0</th>\n",
              "      <td>g0pA_taska.txt</td>\n",
              "      <td>a</td>\n",
              "      <td>0</td>\n",
              "      <td>0</td>\n",
              "      <td>inheritance is a basic concept of object orien...</td>\n",
              "    </tr>\n",
              "    <tr>\n",
              "      <th>1</th>\n",
              "      <td>g0pA_taskb.txt</td>\n",
              "      <td>b</td>\n",
              "      <td>3</td>\n",
              "      <td>1</td>\n",
              "      <td>pagerank is a link analysis algorithm used by ...</td>\n",
              "    </tr>\n",
              "    <tr>\n",
              "      <th>2</th>\n",
              "      <td>g0pA_taskc.txt</td>\n",
              "      <td>c</td>\n",
              "      <td>2</td>\n",
              "      <td>1</td>\n",
              "      <td>the vector space model also called term vector...</td>\n",
              "    </tr>\n",
              "    <tr>\n",
              "      <th>3</th>\n",
              "      <td>g0pA_taskd.txt</td>\n",
              "      <td>d</td>\n",
              "      <td>1</td>\n",
              "      <td>1</td>\n",
              "      <td>bayes theorem was names after rev thomas bayes...</td>\n",
              "    </tr>\n",
              "    <tr>\n",
              "      <th>4</th>\n",
              "      <td>g0pA_taske.txt</td>\n",
              "      <td>e</td>\n",
              "      <td>0</td>\n",
              "      <td>0</td>\n",
              "      <td>dynamic programming is an algorithm design tec...</td>\n",
              "    </tr>\n",
              "  </tbody>\n",
              "</table>\n",
              "</div>"
            ],
            "text/plain": [
              "             File  ...                                               Text\n",
              "0  g0pA_taska.txt  ...  inheritance is a basic concept of object orien...\n",
              "1  g0pA_taskb.txt  ...  pagerank is a link analysis algorithm used by ...\n",
              "2  g0pA_taskc.txt  ...  the vector space model also called term vector...\n",
              "3  g0pA_taskd.txt  ...  bayes theorem was names after rev thomas bayes...\n",
              "4  g0pA_taske.txt  ...  dynamic programming is an algorithm design tec...\n",
              "\n",
              "[5 rows x 5 columns]"
            ]
          },
          "metadata": {},
          "execution_count": 10
        }
      ]
    },
    {
      "cell_type": "code",
      "metadata": {
        "colab": {
          "base_uri": "https://localhost:8080/"
        },
        "id": "P1whVM-253mi",
        "outputId": "15650806-2134-4a13-9816-f6e59004c37e"
      },
      "source": [
        "print(text_df.iloc[0]['Text'])"
      ],
      "execution_count": 11,
      "outputs": [
        {
          "output_type": "stream",
          "name": "stdout",
          "text": [
            "inheritance is a basic concept of object oriented programming where the basic idea is to create new classes that add extra detail to existing classes this is done by allowing the new classes to reuse the methods and variables of the existing classes and new methods and classes are added to specialise the new class inheritance models the is kind of relationship between entities or objects  for example postgraduates and undergraduates are both kinds of student this kind of relationship can be visualised as a tree structure where student would be the more general root node and both postgraduate and undergraduate would be more specialised extensions of the student node or the child nodes  in this relationship student would be known as the superclass or parent class whereas  postgraduate would be known as the subclass or child class because the postgraduate class extends the student class  inheritance can occur on several layers where if visualised would display a larger tree structure for example we could further extend the postgraduate node by adding two extra extended classes to it called  msc student and phd student as both these types of student are kinds of postgraduate student this would mean that both the msc student and phd student classes would inherit methods and variables from both the postgraduate and student classes  \n"
          ]
        }
      ]
    },
    {
      "cell_type": "code",
      "metadata": {
        "colab": {
          "base_uri": "https://localhost:8080/",
          "height": 206
        },
        "id": "IqxegM1f6Jdx",
        "outputId": "60156f90-c012-4ab3-8e64-1c33214c1a8f"
      },
      "source": [
        "#train-test data split\n",
        "complete_df = train_test_dataframe(text_df, random_seed=1)\n",
        "\n",
        "# check results\n",
        "complete_df.head(5)"
      ],
      "execution_count": 12,
      "outputs": [
        {
          "output_type": "execute_result",
          "data": {
            "text/html": [
              "<div>\n",
              "<style scoped>\n",
              "    .dataframe tbody tr th:only-of-type {\n",
              "        vertical-align: middle;\n",
              "    }\n",
              "\n",
              "    .dataframe tbody tr th {\n",
              "        vertical-align: top;\n",
              "    }\n",
              "\n",
              "    .dataframe thead th {\n",
              "        text-align: right;\n",
              "    }\n",
              "</style>\n",
              "<table border=\"1\" class=\"dataframe\">\n",
              "  <thead>\n",
              "    <tr style=\"text-align: right;\">\n",
              "      <th></th>\n",
              "      <th>File</th>\n",
              "      <th>Task</th>\n",
              "      <th>Category</th>\n",
              "      <th>Class</th>\n",
              "      <th>Text</th>\n",
              "      <th>Datatype</th>\n",
              "    </tr>\n",
              "  </thead>\n",
              "  <tbody>\n",
              "    <tr>\n",
              "      <th>0</th>\n",
              "      <td>g0pA_taska.txt</td>\n",
              "      <td>a</td>\n",
              "      <td>0</td>\n",
              "      <td>0</td>\n",
              "      <td>inheritance is a basic concept of object orien...</td>\n",
              "      <td>train</td>\n",
              "    </tr>\n",
              "    <tr>\n",
              "      <th>1</th>\n",
              "      <td>g0pA_taskb.txt</td>\n",
              "      <td>b</td>\n",
              "      <td>3</td>\n",
              "      <td>1</td>\n",
              "      <td>pagerank is a link analysis algorithm used by ...</td>\n",
              "      <td>test</td>\n",
              "    </tr>\n",
              "    <tr>\n",
              "      <th>2</th>\n",
              "      <td>g0pA_taskc.txt</td>\n",
              "      <td>c</td>\n",
              "      <td>2</td>\n",
              "      <td>1</td>\n",
              "      <td>the vector space model also called term vector...</td>\n",
              "      <td>train</td>\n",
              "    </tr>\n",
              "    <tr>\n",
              "      <th>3</th>\n",
              "      <td>g0pA_taskd.txt</td>\n",
              "      <td>d</td>\n",
              "      <td>1</td>\n",
              "      <td>1</td>\n",
              "      <td>bayes theorem was names after rev thomas bayes...</td>\n",
              "      <td>train</td>\n",
              "    </tr>\n",
              "    <tr>\n",
              "      <th>4</th>\n",
              "      <td>g0pA_taske.txt</td>\n",
              "      <td>e</td>\n",
              "      <td>0</td>\n",
              "      <td>0</td>\n",
              "      <td>dynamic programming is an algorithm design tec...</td>\n",
              "      <td>train</td>\n",
              "    </tr>\n",
              "  </tbody>\n",
              "</table>\n",
              "</div>"
            ],
            "text/plain": [
              "             File  ... Datatype\n",
              "0  g0pA_taska.txt  ...    train\n",
              "1  g0pA_taskb.txt  ...     test\n",
              "2  g0pA_taskc.txt  ...    train\n",
              "3  g0pA_taskd.txt  ...    train\n",
              "4  g0pA_taske.txt  ...    train\n",
              "\n",
              "[5 rows x 6 columns]"
            ]
          },
          "metadata": {},
          "execution_count": 12
        }
      ]
    },
    {
      "cell_type": "code",
      "metadata": {
        "collapsed": true,
        "cell_id": "00020-840cd45e-7786-4fb9-9416-881ed8ac5674",
        "id": "Hk6jcwFW2U0u"
      },
      "source": [
        "#Similarity feature used-> n-grams\n",
        "from sklearn.feature_extraction.text import CountVectorizer\n",
        "\n",
        "def containment(ngram_array):\n",
        "    ''' Containment is a measure of text similarity. It is the normalized, \n",
        "       intersection of ngram word counts in two texts.\n",
        "       :param ngram_array: an array of ngram counts for an answer and source text.\n",
        "       :return: a normalized containment value.'''\n",
        "    \n",
        "    intersection_ = sum(np.amin(ngram_array,axis=0))\n",
        "    union_ = sum(ngram_array[0])\n",
        "    \n",
        "    return intersection_ / union_\n",
        "\n",
        "# Calculate the ngram containment for one answer file/source file pair in a df\n",
        "def calculate_containment(df, n, answer_filename):\n",
        "    '''Calculates the containment between a given answer text and its associated source text.\n",
        "       This function creates a count of ngrams (of a size, n) for each text file in our data.\n",
        "       Then calculates the containment by finding the ngram count for a given answer text, \n",
        "       and its associated source text, and calculating the normalized intersection of those counts.\n",
        "       :param df: A dataframe with columns,\n",
        "           'File', 'Task', 'Category', 'Class', 'Text', and 'Datatype'\n",
        "       :param n: An integer that defines the ngram size\n",
        "       :param answer_filename: A filename for an answer text in the df, ex. 'g0pB_taskd.txt'\n",
        "       :return: A single containment value that represents the similarity\n",
        "           between an answer text and its source text.\n",
        "    '''\n",
        "\n",
        "    # instantiate an ngram counter\n",
        "    counts = CountVectorizer(analyzer='word', ngram_range=(n,n))\n",
        "\n",
        "    # get the answer text and source text from the dataframe\n",
        "    a_text = df.loc[df[\"File\"] == answer_filename][\"Text\"].values[0]\n",
        "    a_task = df.loc[df[\"File\"] == answer_filename][\"Task\"].values[0]\n",
        "    s_text = df.loc[(df[\"Task\"] == a_task) & (df[\"Datatype\"] == 'orig')][\"Text\"].values[0]\n",
        "\n",
        "    # create array of n-gram counts for the answer and source text\n",
        "    ngrams = counts.fit_transform([a_text, s_text])\n",
        "\n",
        "    return containment(ngrams.toarray())\n",
        "    "
      ],
      "execution_count": 13,
      "outputs": []
    },
    {
      "cell_type": "code",
      "metadata": {
        "colab": {
          "base_uri": "https://localhost:8080/"
        },
        "id": "XfWy6CqB7CoF",
        "outputId": "3d9958bc-ba7c-41dd-8f61-8c3f1528d6d5"
      },
      "source": [
        "# select a value for n\n",
        "n = 3\n",
        "\n",
        "# indices for first few files\n",
        "test_indices = range(5)\n",
        "\n",
        "# iterate through files and calculate containment\n",
        "category_vals = []\n",
        "containment_vals = []\n",
        "for i in test_indices:\n",
        "    # get level of plagiarism for a given file index\n",
        "    category_vals.append(complete_df.loc[i, 'Category'])\n",
        "    # calculate containment for given file and n\n",
        "    filename = complete_df.loc[i, 'File']\n",
        "    c = calculate_containment(complete_df, n, filename)\n",
        "    containment_vals.append(c)\n",
        "\n",
        "# print out result\n",
        "print('Original category values: \\n', category_vals)\n",
        "print()\n",
        "print(str(n)+'-gram containment values: \\n', containment_vals)"
      ],
      "execution_count": 14,
      "outputs": [
        {
          "output_type": "stream",
          "name": "stdout",
          "text": [
            "Original category values: \n",
            " [0, 3, 2, 1, 0]\n",
            "\n",
            "3-gram containment values: \n",
            " [0.009345794392523364, 0.9641025641025641, 0.6136363636363636, 0.15675675675675677, 0.031746031746031744]\n"
          ]
        }
      ]
    },
    {
      "cell_type": "code",
      "metadata": {
        "id": "0mXGGghp7LWt"
      },
      "source": [
        "# Function returns a list of containment features, calculated for a given n \n",
        "# Should return a list of length 100 for all files in a complete_df\n",
        "def create_containment_features(df, n, column_name=None):\n",
        "    \n",
        "    containment_values = []\n",
        "    \n",
        "    if(column_name==None):\n",
        "        column_name = 'c_'+str(n) \n",
        "    \n",
        "    # iterates through dataframe rows\n",
        "    for i in df.index:\n",
        "        file = df.loc[i, 'File']\n",
        "        # Computes features using calculate_containment function\n",
        "        if df.loc[i,'Category'] > -1:\n",
        "            c = calculate_containment(df, n, file)\n",
        "            containment_values.append(c)\n",
        "        # Sets value to -1 for original tasks \n",
        "        else:\n",
        "            containment_values.append(-1)\n",
        "    \n",
        "    print(str(n)+'-gram containment features created!')\n",
        "    return containment_values\n"
      ],
      "execution_count": 15,
      "outputs": []
    },
    {
      "cell_type": "code",
      "metadata": {
        "colab": {
          "base_uri": "https://localhost:8080/"
        },
        "id": "W7S6ZPnC-g-Y",
        "outputId": "8baa33a7-158b-4841-c9cd-628c2f3b53fe"
      },
      "source": [
        "# Define an ngram range\n",
        "ngram_range = range(1,11)\n",
        "\n",
        "features_list = []\n",
        "\n",
        "# Create features in a features_df\n",
        "all_features = np.zeros((len(ngram_range), len(complete_df)))\n",
        "\n",
        "# Calculate features for containment for ngrams in range\n",
        "i=0\n",
        "for n in ngram_range:\n",
        "    column_name = 'c_'+str(n)\n",
        "    features_list.append(column_name)\n",
        "    # create containment features\n",
        "    all_features[i]=np.squeeze(create_containment_features(complete_df, n))\n",
        "    i+=1\n",
        "\n",
        "# create a features dataframe\n",
        "features_df = pd.DataFrame(np.transpose(all_features), columns=features_list)\n",
        "\n",
        "# Print all features/columns\n",
        "print()\n",
        "print('Features: ', features_list)\n",
        "print()"
      ],
      "execution_count": 16,
      "outputs": [
        {
          "output_type": "stream",
          "name": "stdout",
          "text": [
            "1-gram containment features created!\n",
            "2-gram containment features created!\n",
            "3-gram containment features created!\n",
            "4-gram containment features created!\n",
            "5-gram containment features created!\n",
            "6-gram containment features created!\n",
            "7-gram containment features created!\n",
            "8-gram containment features created!\n",
            "9-gram containment features created!\n",
            "10-gram containment features created!\n",
            "\n",
            "Features:  ['c_1', 'c_2', 'c_3', 'c_4', 'c_5', 'c_6', 'c_7', 'c_8', 'c_9', 'c_10']\n",
            "\n"
          ]
        }
      ]
    },
    {
      "cell_type": "code",
      "metadata": {
        "colab": {
          "base_uri": "https://localhost:8080/",
          "height": 206
        },
        "id": "cUS6FuL7AXgQ",
        "outputId": "436cabff-509d-4e73-f3a4-800aeba278f0"
      },
      "source": [
        "features_df.head()"
      ],
      "execution_count": 17,
      "outputs": [
        {
          "output_type": "execute_result",
          "data": {
            "text/html": [
              "<div>\n",
              "<style scoped>\n",
              "    .dataframe tbody tr th:only-of-type {\n",
              "        vertical-align: middle;\n",
              "    }\n",
              "\n",
              "    .dataframe tbody tr th {\n",
              "        vertical-align: top;\n",
              "    }\n",
              "\n",
              "    .dataframe thead th {\n",
              "        text-align: right;\n",
              "    }\n",
              "</style>\n",
              "<table border=\"1\" class=\"dataframe\">\n",
              "  <thead>\n",
              "    <tr style=\"text-align: right;\">\n",
              "      <th></th>\n",
              "      <th>c_1</th>\n",
              "      <th>c_2</th>\n",
              "      <th>c_3</th>\n",
              "      <th>c_4</th>\n",
              "      <th>c_5</th>\n",
              "      <th>c_6</th>\n",
              "      <th>c_7</th>\n",
              "      <th>c_8</th>\n",
              "      <th>c_9</th>\n",
              "      <th>c_10</th>\n",
              "    </tr>\n",
              "  </thead>\n",
              "  <tbody>\n",
              "    <tr>\n",
              "      <th>0</th>\n",
              "      <td>0.398148</td>\n",
              "      <td>0.079070</td>\n",
              "      <td>0.009346</td>\n",
              "      <td>0.000000</td>\n",
              "      <td>0.000000</td>\n",
              "      <td>0.000000</td>\n",
              "      <td>0.000000</td>\n",
              "      <td>0.000000</td>\n",
              "      <td>0.000000</td>\n",
              "      <td>0.000000</td>\n",
              "    </tr>\n",
              "    <tr>\n",
              "      <th>1</th>\n",
              "      <td>1.000000</td>\n",
              "      <td>0.984694</td>\n",
              "      <td>0.964103</td>\n",
              "      <td>0.943299</td>\n",
              "      <td>0.922280</td>\n",
              "      <td>0.901042</td>\n",
              "      <td>0.879581</td>\n",
              "      <td>0.857895</td>\n",
              "      <td>0.835979</td>\n",
              "      <td>0.813830</td>\n",
              "    </tr>\n",
              "    <tr>\n",
              "      <th>2</th>\n",
              "      <td>0.869369</td>\n",
              "      <td>0.719457</td>\n",
              "      <td>0.613636</td>\n",
              "      <td>0.515982</td>\n",
              "      <td>0.449541</td>\n",
              "      <td>0.382488</td>\n",
              "      <td>0.319444</td>\n",
              "      <td>0.265116</td>\n",
              "      <td>0.219626</td>\n",
              "      <td>0.197183</td>\n",
              "    </tr>\n",
              "    <tr>\n",
              "      <th>3</th>\n",
              "      <td>0.593583</td>\n",
              "      <td>0.268817</td>\n",
              "      <td>0.156757</td>\n",
              "      <td>0.108696</td>\n",
              "      <td>0.081967</td>\n",
              "      <td>0.060440</td>\n",
              "      <td>0.044199</td>\n",
              "      <td>0.027778</td>\n",
              "      <td>0.011173</td>\n",
              "      <td>0.000000</td>\n",
              "    </tr>\n",
              "    <tr>\n",
              "      <th>4</th>\n",
              "      <td>0.544503</td>\n",
              "      <td>0.115789</td>\n",
              "      <td>0.031746</td>\n",
              "      <td>0.005319</td>\n",
              "      <td>0.000000</td>\n",
              "      <td>0.000000</td>\n",
              "      <td>0.000000</td>\n",
              "      <td>0.000000</td>\n",
              "      <td>0.000000</td>\n",
              "      <td>0.000000</td>\n",
              "    </tr>\n",
              "  </tbody>\n",
              "</table>\n",
              "</div>"
            ],
            "text/plain": [
              "        c_1       c_2       c_3  ...       c_8       c_9      c_10\n",
              "0  0.398148  0.079070  0.009346  ...  0.000000  0.000000  0.000000\n",
              "1  1.000000  0.984694  0.964103  ...  0.857895  0.835979  0.813830\n",
              "2  0.869369  0.719457  0.613636  ...  0.265116  0.219626  0.197183\n",
              "3  0.593583  0.268817  0.156757  ...  0.027778  0.011173  0.000000\n",
              "4  0.544503  0.115789  0.031746  ...  0.000000  0.000000  0.000000\n",
              "\n",
              "[5 rows x 10 columns]"
            ]
          },
          "metadata": {},
          "execution_count": 17
        }
      ]
    },
    {
      "cell_type": "code",
      "metadata": {
        "id": "E3BPq61WAehE"
      },
      "source": [
        "# Takes in dataframes and a list of selected features (column names) \n",
        "# and returns (train_x, train_y), (test_x, test_y)\n",
        "def train_test_data(complete_df, features_df, selected_features):\n",
        "   '''Gets selected training and test features from given dataframes, and \n",
        "      returns tuples for training and test features and their corresponding class labels.\n",
        "      :param complete_df: A dataframe with all of our processed text data, datatypes, and labels\n",
        "      :param features_df: A dataframe of all computed, similarity features\n",
        "      :param selected_features: An array of selected features that correspond to certain columns in `features_df`\n",
        "      :return: training and test features and labels: (train_x, train_y), (test_x, test_y)'''\n",
        "\n",
        "   # get the training features\n",
        "   train_x = (features_df[selected_features].iloc[complete_df.index[complete_df[\"Datatype\"] == 'train'].tolist()]).values\n",
        "   # And training class labels (0 or 1)\n",
        "   train_y = ((complete_df[complete_df[\"Datatype\"] == 'train'])['Class']).values\n",
        "\n",
        "   # get the test features and labels\n",
        "   test_x = (features_df[selected_features].iloc[complete_df.index[complete_df[\"Datatype\"] == 'test'].tolist()]).values\n",
        "   test_y = ((complete_df[complete_df[\"Datatype\"] == 'test'])['Class']).values\n",
        "\n",
        "   return (train_x, train_y), (test_x, test_y)\n",
        "    "
      ],
      "execution_count": 18,
      "outputs": []
    },
    {
      "cell_type": "code",
      "metadata": {
        "colab": {
          "base_uri": "https://localhost:8080/"
        },
        "id": "u6P13k0lBOam",
        "outputId": "a019c12f-c723-4b58-c6a6-1f590dfd15c6"
      },
      "source": [
        "# Select your list of features, this should be column names from features_df\n",
        "selected_features = ['c_1', 'c_5', 'c_10']\n",
        "\n",
        "(train_x, train_y), (test_x, test_y) = train_test_data(complete_df, features_df, selected_features)\n",
        "\n",
        "# check that division of samples seems correct\n",
        "# these should add up to 95 (100 - 5 original files)\n",
        "print('Training size: ', len(train_x))\n",
        "print('Test size: ', len(test_x))\n",
        "print()\n",
        "print('Training df sample: \\n', train_x[:10])\n",
        "print('Training labels sample: \\n', train_y[:10])"
      ],
      "execution_count": 19,
      "outputs": [
        {
          "output_type": "stream",
          "name": "stdout",
          "text": [
            "Training size:  70\n",
            "Test size:  25\n",
            "\n",
            "Training df sample: \n",
            " [[0.39814815 0.         0.        ]\n",
            " [0.86936937 0.44954128 0.1971831 ]\n",
            " [0.59358289 0.08196721 0.        ]\n",
            " [0.54450262 0.         0.        ]\n",
            " [0.32950192 0.         0.        ]\n",
            " [0.59030837 0.         0.        ]\n",
            " [0.75977654 0.24571429 0.03529412]\n",
            " [0.51612903 0.         0.        ]\n",
            " [0.44086022 0.         0.        ]\n",
            " [0.97945205 0.78873239 0.5620438 ]]\n",
            "Training labels sample: \n",
            " [0 1 1 0 0 0 1 0 0 1]\n"
          ]
        }
      ]
    },
    {
      "cell_type": "code",
      "metadata": {
        "id": "hDeBMqQ0Cj4P"
      },
      "source": [
        "#Function to create csv files\n",
        "import os\n",
        "def make_csv(x, y, filename, data_dir):\n",
        "    '''Merges features and labels and converts them into one csv file with labels in the first column.\n",
        "       :param x: Data features\n",
        "       :param y: Data labels\n",
        "       :param file_name: Name of csv file, ex. 'train.csv'\n",
        "       :param data_dir: The directory where files will be saved\n",
        "       '''\n",
        "    # make data dir, if it does not exist\n",
        "    if not os.path.exists(data_dir):\n",
        "        os.makedirs(data_dir)\n",
        "    \n",
        "    features_df = pd.DataFrame(x)\n",
        "    labels_df = pd.DataFrame(y)\n",
        "    final_df = labels_df.merge(features_df, how='inner', left_index=True, right_index=True)\n",
        "    final_df.to_csv(data_dir + '/' + filename, header=False, index=False) \n",
        "    \n",
        "    # nothing is returned, but a print statement indicates that the function has run\n",
        "    print('Path created: '+str(data_dir)+'/'+str(filename))"
      ],
      "execution_count": 20,
      "outputs": []
    },
    {
      "cell_type": "code",
      "metadata": {
        "colab": {
          "base_uri": "https://localhost:8080/"
        },
        "id": "FeW4mgaFHLle",
        "outputId": "d04f3d32-9a5f-4097-b532-a3d279f3da48"
      },
      "source": [
        "# Choose directory to save train.csv and test.csv files\n",
        "data_dir = 'plagiarism_data'\n",
        "\n",
        "make_csv(train_x, train_y, filename='train.csv', data_dir=data_dir)\n",
        "make_csv(test_x, test_y, filename='test.csv', data_dir=data_dir)"
      ],
      "execution_count": 21,
      "outputs": [
        {
          "output_type": "stream",
          "name": "stdout",
          "text": [
            "Path created: plagiarism_data/train.csv\n",
            "Path created: plagiarism_data/test.csv\n"
          ]
        }
      ]
    },
    {
      "cell_type": "code",
      "metadata": {
        "colab": {
          "base_uri": "https://localhost:8080/"
        },
        "id": "94VbHB5zIiQm",
        "outputId": "3b3220d6-8bcc-4a30-d47f-86f9e1f51ad6"
      },
      "source": [
        "#Building model based on Linear Support Vector Machines\n",
        "from sklearn import svm\n",
        "\n",
        "#Read in csv training file\n",
        "train_data = pd.read_csv(os.path.join(data_dir, \"train.csv\"), header=None, names=None)\n",
        "print(train_data.head())\n",
        "\n",
        "# Labels are in the first column\n",
        "train_y = train_data.iloc[:,0]\n",
        "train_x = train_data.iloc[:,1:]\n",
        "\n",
        "# read in test data\n",
        "test_data = pd.read_csv(os.path.join(data_dir, \"test.csv\"), header=None, names=None)\n",
        "\n",
        "# labels are in the first column\n",
        "test_y = test_data.iloc[:,0]\n",
        "test_x = test_data.iloc[:,1:]\n",
        "\n",
        "#Define a SVM model \n",
        "model = svm.LinearSVC()\n",
        "\n",
        "#Train the model\n",
        "model.fit(train_x, train_y)\n",
        "\n",
        "#Evaluating the model, predicting the output for testing data \n",
        "test_y_pred = model.predict(test_x)\n",
        "print(test_y_pred)"
      ],
      "execution_count": 22,
      "outputs": [
        {
          "output_type": "stream",
          "name": "stdout",
          "text": [
            "   0         1         2         3\n",
            "0  0  0.398148  0.000000  0.000000\n",
            "1  1  0.869369  0.449541  0.197183\n",
            "2  1  0.593583  0.081967  0.000000\n",
            "3  0  0.544503  0.000000  0.000000\n",
            "4  0  0.329502  0.000000  0.000000\n",
            "[1 1 1 1 1 1 0 0 0 0 0 0 0 1 1 1 1 1 0 1 0 1 1 0 0]\n"
          ]
        }
      ]
    },
    {
      "cell_type": "code",
      "metadata": {
        "colab": {
          "base_uri": "https://localhost:8080/"
        },
        "id": "aG8LhoPGL-f8",
        "outputId": "6b215392-ae3c-4304-c1e8-1b7aacd54bbe"
      },
      "source": [
        "# Calculate the test accuracy\n",
        "from sklearn.metrics import accuracy_score\n",
        "\n",
        "accuracy = accuracy_score(test_y, test_y_pred)\n",
        "\n",
        "print(accuracy)\n",
        "\n",
        "# Print out the array of predicted and true labels\n",
        "print('\\nPredicted class labels: ')\n",
        "print(test_y_pred)\n",
        "print('\\nTrue class labels: ')\n",
        "print(test_y.values)"
      ],
      "execution_count": 23,
      "outputs": [
        {
          "output_type": "stream",
          "name": "stdout",
          "text": [
            "0.96\n",
            "\n",
            "Predicted class labels: \n",
            "[1 1 1 1 1 1 0 0 0 0 0 0 0 1 1 1 1 1 0 1 0 1 1 0 0]\n",
            "\n",
            "True class labels: \n",
            "[1 1 1 1 1 1 0 0 0 0 0 0 1 1 1 1 1 1 0 1 0 1 1 0 0]\n"
          ]
        }
      ]
    }
  ]
}